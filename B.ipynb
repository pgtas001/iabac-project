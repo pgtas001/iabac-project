{
  "nbformat": 4,
  "nbformat_minor": 0,
  "metadata": {
    "colab": {
      "name": "B.ipynb",
      "provenance": [],
      "authorship_tag": "ABX9TyMkAXbDszKkrvGdBz+9pSTe",
      "include_colab_link": true
    },
    "kernelspec": {
      "name": "python3",
      "display_name": "Python 3"
    },
    "language_info": {
      "name": "python"
    }
  },
  "cells": [
    {
      "cell_type": "markdown",
      "metadata": {
        "id": "view-in-github",
        "colab_type": "text"
      },
      "source": [
        "<a href=\"https://colab.research.google.com/github/pgtas001/iabac-project/blob/main/B.ipynb\" target=\"_parent\"><img src=\"https://colab.research.google.com/assets/colab-badge.svg\" alt=\"Open In Colab\"/></a>"
      ]
    },
    {
      "cell_type": "code",
      "execution_count": 21,
      "metadata": {
        "id": "yNlzMj_SQ-Lx"
      },
      "outputs": [],
      "source": [
        "#importing libraries\n",
        "import pandas as pd\n",
        "import numpy as np\n",
        "import seaborn as sns"
      ]
    },
    {
      "cell_type": "code",
      "source": [
        "#loading the data\n",
        "data = pd.read_csv(\"comcast_consumeraffairs_complaints.csv\")"
      ],
      "metadata": {
        "id": "poP034dlRSIR"
      },
      "execution_count": 22,
      "outputs": []
    },
    {
      "cell_type": "code",
      "source": [
        "data.head()\n"
      ],
      "metadata": {
        "colab": {
          "base_uri": "https://localhost:8080/",
          "height": 206
        },
        "id": "BUx9Tl0PSpJf",
        "outputId": "1c44442e-2861-4afd-c217-f36e8cdb1a28"
      },
      "execution_count": 23,
      "outputs": [
        {
          "output_type": "execute_result",
          "data": {
            "text/html": [
              "\n",
              "  <div id=\"df-928d2ad7-9ed3-4ebf-a7c0-a6ef2f9f8b31\">\n",
              "    <div class=\"colab-df-container\">\n",
              "      <div>\n",
              "<style scoped>\n",
              "    .dataframe tbody tr th:only-of-type {\n",
              "        vertical-align: middle;\n",
              "    }\n",
              "\n",
              "    .dataframe tbody tr th {\n",
              "        vertical-align: top;\n",
              "    }\n",
              "\n",
              "    .dataframe thead th {\n",
              "        text-align: right;\n",
              "    }\n",
              "</style>\n",
              "<table border=\"1\" class=\"dataframe\">\n",
              "  <thead>\n",
              "    <tr style=\"text-align: right;\">\n",
              "      <th></th>\n",
              "      <th>author</th>\n",
              "      <th>posted_on</th>\n",
              "      <th>rating</th>\n",
              "      <th>text</th>\n",
              "    </tr>\n",
              "  </thead>\n",
              "  <tbody>\n",
              "    <tr>\n",
              "      <th>0</th>\n",
              "      <td>Alantae of Chesterfeild, MI</td>\n",
              "      <td>Nov. 22, 2016</td>\n",
              "      <td>1</td>\n",
              "      <td>I used to love Comcast. Until all these consta...</td>\n",
              "    </tr>\n",
              "    <tr>\n",
              "      <th>1</th>\n",
              "      <td>Vera of Philadelphia, PA</td>\n",
              "      <td>Nov. 19, 2016</td>\n",
              "      <td>1</td>\n",
              "      <td>I'm so over Comcast! The worst internet provid...</td>\n",
              "    </tr>\n",
              "    <tr>\n",
              "      <th>2</th>\n",
              "      <td>Sarah of Rancho Cordova, CA</td>\n",
              "      <td>Nov. 17, 2016</td>\n",
              "      <td>1</td>\n",
              "      <td>If I could give them a negative star or no sta...</td>\n",
              "    </tr>\n",
              "    <tr>\n",
              "      <th>3</th>\n",
              "      <td>Dennis of Manchester, NH</td>\n",
              "      <td>Nov. 16, 2016</td>\n",
              "      <td>1</td>\n",
              "      <td>I've had the worst experiences so far since in...</td>\n",
              "    </tr>\n",
              "    <tr>\n",
              "      <th>4</th>\n",
              "      <td>Ryan of Bellevue, WA</td>\n",
              "      <td>Nov. 14, 2016</td>\n",
              "      <td>1</td>\n",
              "      <td>Check your contract when you sign up for Comca...</td>\n",
              "    </tr>\n",
              "  </tbody>\n",
              "</table>\n",
              "</div>\n",
              "      <button class=\"colab-df-convert\" onclick=\"convertToInteractive('df-928d2ad7-9ed3-4ebf-a7c0-a6ef2f9f8b31')\"\n",
              "              title=\"Convert this dataframe to an interactive table.\"\n",
              "              style=\"display:none;\">\n",
              "        \n",
              "  <svg xmlns=\"http://www.w3.org/2000/svg\" height=\"24px\"viewBox=\"0 0 24 24\"\n",
              "       width=\"24px\">\n",
              "    <path d=\"M0 0h24v24H0V0z\" fill=\"none\"/>\n",
              "    <path d=\"M18.56 5.44l.94 2.06.94-2.06 2.06-.94-2.06-.94-.94-2.06-.94 2.06-2.06.94zm-11 1L8.5 8.5l.94-2.06 2.06-.94-2.06-.94L8.5 2.5l-.94 2.06-2.06.94zm10 10l.94 2.06.94-2.06 2.06-.94-2.06-.94-.94-2.06-.94 2.06-2.06.94z\"/><path d=\"M17.41 7.96l-1.37-1.37c-.4-.4-.92-.59-1.43-.59-.52 0-1.04.2-1.43.59L10.3 9.45l-7.72 7.72c-.78.78-.78 2.05 0 2.83L4 21.41c.39.39.9.59 1.41.59.51 0 1.02-.2 1.41-.59l7.78-7.78 2.81-2.81c.8-.78.8-2.07 0-2.86zM5.41 20L4 18.59l7.72-7.72 1.47 1.35L5.41 20z\"/>\n",
              "  </svg>\n",
              "      </button>\n",
              "      \n",
              "  <style>\n",
              "    .colab-df-container {\n",
              "      display:flex;\n",
              "      flex-wrap:wrap;\n",
              "      gap: 12px;\n",
              "    }\n",
              "\n",
              "    .colab-df-convert {\n",
              "      background-color: #E8F0FE;\n",
              "      border: none;\n",
              "      border-radius: 50%;\n",
              "      cursor: pointer;\n",
              "      display: none;\n",
              "      fill: #1967D2;\n",
              "      height: 32px;\n",
              "      padding: 0 0 0 0;\n",
              "      width: 32px;\n",
              "    }\n",
              "\n",
              "    .colab-df-convert:hover {\n",
              "      background-color: #E2EBFA;\n",
              "      box-shadow: 0px 1px 2px rgba(60, 64, 67, 0.3), 0px 1px 3px 1px rgba(60, 64, 67, 0.15);\n",
              "      fill: #174EA6;\n",
              "    }\n",
              "\n",
              "    [theme=dark] .colab-df-convert {\n",
              "      background-color: #3B4455;\n",
              "      fill: #D2E3FC;\n",
              "    }\n",
              "\n",
              "    [theme=dark] .colab-df-convert:hover {\n",
              "      background-color: #434B5C;\n",
              "      box-shadow: 0px 1px 3px 1px rgba(0, 0, 0, 0.15);\n",
              "      filter: drop-shadow(0px 1px 2px rgba(0, 0, 0, 0.3));\n",
              "      fill: #FFFFFF;\n",
              "    }\n",
              "  </style>\n",
              "\n",
              "      <script>\n",
              "        const buttonEl =\n",
              "          document.querySelector('#df-928d2ad7-9ed3-4ebf-a7c0-a6ef2f9f8b31 button.colab-df-convert');\n",
              "        buttonEl.style.display =\n",
              "          google.colab.kernel.accessAllowed ? 'block' : 'none';\n",
              "\n",
              "        async function convertToInteractive(key) {\n",
              "          const element = document.querySelector('#df-928d2ad7-9ed3-4ebf-a7c0-a6ef2f9f8b31');\n",
              "          const dataTable =\n",
              "            await google.colab.kernel.invokeFunction('convertToInteractive',\n",
              "                                                     [key], {});\n",
              "          if (!dataTable) return;\n",
              "\n",
              "          const docLinkHtml = 'Like what you see? Visit the ' +\n",
              "            '<a target=\"_blank\" href=https://colab.research.google.com/notebooks/data_table.ipynb>data table notebook</a>'\n",
              "            + ' to learn more about interactive tables.';\n",
              "          element.innerHTML = '';\n",
              "          dataTable['output_type'] = 'display_data';\n",
              "          await google.colab.output.renderOutput(dataTable, element);\n",
              "          const docLink = document.createElement('div');\n",
              "          docLink.innerHTML = docLinkHtml;\n",
              "          element.appendChild(docLink);\n",
              "        }\n",
              "      </script>\n",
              "    </div>\n",
              "  </div>\n",
              "  "
            ],
            "text/plain": [
              "                        author  ...                                               text\n",
              "0  Alantae of Chesterfeild, MI  ...  I used to love Comcast. Until all these consta...\n",
              "1     Vera of Philadelphia, PA  ...  I'm so over Comcast! The worst internet provid...\n",
              "2  Sarah of Rancho Cordova, CA  ...  If I could give them a negative star or no sta...\n",
              "3     Dennis of Manchester, NH  ...  I've had the worst experiences so far since in...\n",
              "4         Ryan of Bellevue, WA  ...  Check your contract when you sign up for Comca...\n",
              "\n",
              "[5 rows x 4 columns]"
            ]
          },
          "metadata": {},
          "execution_count": 23
        }
      ]
    },
    {
      "cell_type": "markdown",
      "source": [
        "# Step 2 Explore the data"
      ],
      "metadata": {
        "id": "4jt_xul8eMp2"
      }
    },
    {
      "cell_type": "code",
      "source": [
        "data.shape"
      ],
      "metadata": {
        "colab": {
          "base_uri": "https://localhost:8080/"
        },
        "id": "PJsr3pI6SrJs",
        "outputId": "0cc87edc-4be1-422e-e0ed-ec977a6586aa"
      },
      "execution_count": 24,
      "outputs": [
        {
          "output_type": "execute_result",
          "data": {
            "text/plain": [
              "(5659, 4)"
            ]
          },
          "metadata": {},
          "execution_count": 24
        }
      ]
    },
    {
      "cell_type": "code",
      "source": [
        "data.rating.value_counts()"
      ],
      "metadata": {
        "colab": {
          "base_uri": "https://localhost:8080/"
        },
        "id": "1-ylaCIIS9b1",
        "outputId": "fbdd0757-3f8d-4b2a-e5dd-a0e5cc1da2c7"
      },
      "execution_count": 25,
      "outputs": [
        {
          "output_type": "execute_result",
          "data": {
            "text/plain": [
              "1    3734\n",
              "0    1560\n",
              "2     260\n",
              "3      54\n",
              "5      32\n",
              "4      19\n",
              "Name: rating, dtype: int64"
            ]
          },
          "metadata": {},
          "execution_count": 25
        }
      ]
    },
    {
      "cell_type": "code",
      "source": [
        "\n",
        "sns.countplot(data['rating'])"
      ],
      "metadata": {
        "id": "dAtz4iZkT6cr",
        "colab": {
          "base_uri": "https://localhost:8080/",
          "height": 354
        },
        "outputId": "5a00f170-4b86-4513-905e-1fb2aa5cf440"
      },
      "execution_count": 26,
      "outputs": [
        {
          "output_type": "stream",
          "name": "stderr",
          "text": [
            "/usr/local/lib/python3.7/dist-packages/seaborn/_decorators.py:43: FutureWarning: Pass the following variable as a keyword arg: x. From version 0.12, the only valid positional argument will be `data`, and passing other arguments without an explicit keyword will result in an error or misinterpretation.\n",
            "  FutureWarning\n"
          ]
        },
        {
          "output_type": "execute_result",
          "data": {
            "text/plain": [
              "<matplotlib.axes._subplots.AxesSubplot at 0x7f531663e410>"
            ]
          },
          "metadata": {},
          "execution_count": 26
        },
        {
          "output_type": "display_data",
          "data": {
            "image/png": "[encoded data removed]",
            "text/plain": [
              "<Figure size 432x288 with 1 Axes>"
            ]
          },
          "metadata": {
            "needs_background": "light"
          }
        }
      ]
    },
    {
      "cell_type": "code",
      "source": [
        "data.info()"
      ],
      "metadata": {
        "colab": {
          "base_uri": "https://localhost:8080/"
        },
        "id": "VCNdb-qPdwts",
        "outputId": "db9a03e6-d651-4c24-8ddd-2d4bf278f466"
      },
      "execution_count": 27,
      "outputs": [
        {
          "output_type": "stream",
          "name": "stdout",
          "text": [
            "<class 'pandas.core.frame.DataFrame'>\n",
            "RangeIndex: 5659 entries, 0 to 5658\n",
            "Data columns (total 4 columns):\n",
            " #   Column     Non-Null Count  Dtype \n",
            "---  ------     --------------  ----- \n",
            " 0   author     5659 non-null   object\n",
            " 1   posted_on  5659 non-null   object\n",
            " 2   rating     5659 non-null   int64 \n",
            " 3   text       5629 non-null   object\n",
            "dtypes: int64(1), object(3)\n",
            "memory usage: 177.0+ KB\n"
          ]
        }
      ]
    },
    {
      "cell_type": "code",
      "source": [
        ""
      ],
      "metadata": {
        "id": "13VsTWyhecwy"
      },
      "execution_count": 27,
      "outputs": []
    },
    {
      "cell_type": "markdown",
      "source": [
        "#Step 3: Data preprocessing"
      ],
      "metadata": {
        "id": "34Y2ZFgtedsn"
      }
    },
    {
      "cell_type": "code",
      "source": [
        "from sklearn.feature_extraction.text import TfidfVectorizer\n",
        "from sklearn.cluster import KMeans"
      ],
      "metadata": {
        "id": "MHXhtG3EearD"
      },
      "execution_count": 28,
      "outputs": []
    },
    {
      "cell_type": "code",
      "source": [
        "documents = data['text'].values.astype(\"U\")"
      ],
      "metadata": {
        "id": "kwY51vB3eh-C"
      },
      "execution_count": 29,
      "outputs": []
    },
    {
      "cell_type": "code",
      "source": [
        "vectorizer = TfidfVectorizer(stop_words='english')\n",
        "features = vectorizer.fit_transform(documents)"
      ],
      "metadata": {
        "id": "k7YWRlBMengq"
      },
      "execution_count": 30,
      "outputs": []
    },
    {
      "cell_type": "code",
      "source": [
        "k = 20\n",
        "model = KMeans(n_clusters=k, init='k-means++', max_iter=100, n_init=1)\n",
        "model.fit(features)"
      ],
      "metadata": {
        "colab": {
          "base_uri": "https://localhost:8080/"
        },
        "id": "ixa9-bZolIQv",
        "outputId": "c93c3a42-7fd6-462f-bf8d-e1e1062476ac"
      },
      "execution_count": 32,
      "outputs": [
        {
          "output_type": "execute_result",
          "data": {
            "text/plain": [
              "KMeans(max_iter=100, n_clusters=20, n_init=1)"
            ]
          },
          "metadata": {},
          "execution_count": 32
        }
      ]
    },
    {
      "cell_type": "code",
      "source": [
        "data['cluster'] = model.labels_"
      ],
      "metadata": {
        "id": "hluyIjWMnJDp"
      },
      "execution_count": 34,
      "outputs": []
    },
    {
      "cell_type": "code",
      "source": [
        "data.head()"
      ],
      "metadata": {
        "colab": {
          "base_uri": "https://localhost:8080/",
          "height": 206
        },
        "id": "8SUo8_ZenNbP",
        "outputId": "aa21493e-a666-4048-a5ea-e8501c32192e"
      },
      "execution_count": 35,
      "outputs": [
        {
          "output_type": "execute_result",
          "data": {
            "text/html": [
              "\n",
              "  <div id=\"df-10fc61da-fad2-4945-b320-8f6b5787379f\">\n",
              "    <div class=\"colab-df-container\">\n",
              "      <div>\n",
              "<style scoped>\n",
              "    .dataframe tbody tr th:only-of-type {\n",
              "        vertical-align: middle;\n",
              "    }\n",
              "\n",
              "    .dataframe tbody tr th {\n",
              "        vertical-align: top;\n",
              "    }\n",
              "\n",
              "    .dataframe thead th {\n",
              "        text-align: right;\n",
              "    }\n",
              "</style>\n",
              "<table border=\"1\" class=\"dataframe\">\n",
              "  <thead>\n",
              "    <tr style=\"text-align: right;\">\n",
              "      <th></th>\n",
              "      <th>author</th>\n",
              "      <th>posted_on</th>\n",
              "      <th>rating</th>\n",
              "      <th>text</th>\n",
              "      <th>cluster</th>\n",
              "    </tr>\n",
              "  </thead>\n",
              "  <tbody>\n",
              "    <tr>\n",
              "      <th>0</th>\n",
              "      <td>Alantae of Chesterfeild, MI</td>\n",
              "      <td>Nov. 22, 2016</td>\n",
              "      <td>1</td>\n",
              "      <td>I used to love Comcast. Until all these consta...</td>\n",
              "      <td>11</td>\n",
              "    </tr>\n",
              "    <tr>\n",
              "      <th>1</th>\n",
              "      <td>Vera of Philadelphia, PA</td>\n",
              "      <td>Nov. 19, 2016</td>\n",
              "      <td>1</td>\n",
              "      <td>I'm so over Comcast! The worst internet provid...</td>\n",
              "      <td>6</td>\n",
              "    </tr>\n",
              "    <tr>\n",
              "      <th>2</th>\n",
              "      <td>Sarah of Rancho Cordova, CA</td>\n",
              "      <td>Nov. 17, 2016</td>\n",
              "      <td>1</td>\n",
              "      <td>If I could give them a negative star or no sta...</td>\n",
              "      <td>3</td>\n",
              "    </tr>\n",
              "    <tr>\n",
              "      <th>3</th>\n",
              "      <td>Dennis of Manchester, NH</td>\n",
              "      <td>Nov. 16, 2016</td>\n",
              "      <td>1</td>\n",
              "      <td>I've had the worst experiences so far since in...</td>\n",
              "      <td>11</td>\n",
              "    </tr>\n",
              "    <tr>\n",
              "      <th>4</th>\n",
              "      <td>Ryan of Bellevue, WA</td>\n",
              "      <td>Nov. 14, 2016</td>\n",
              "      <td>1</td>\n",
              "      <td>Check your contract when you sign up for Comca...</td>\n",
              "      <td>7</td>\n",
              "    </tr>\n",
              "  </tbody>\n",
              "</table>\n",
              "</div>\n",
              "      <button class=\"colab-df-convert\" onclick=\"convertToInteractive('df-10fc61da-fad2-4945-b320-8f6b5787379f')\"\n",
              "              title=\"Convert this dataframe to an interactive table.\"\n",
              "              style=\"display:none;\">\n",
              "        \n",
              "  <svg xmlns=\"http://www.w3.org/2000/svg\" height=\"24px\"viewBox=\"0 0 24 24\"\n",
              "       width=\"24px\">\n",
              "    <path d=\"M0 0h24v24H0V0z\" fill=\"none\"/>\n",
              "    <path d=\"M18.56 5.44l.94 2.06.94-2.06 2.06-.94-2.06-.94-.94-2.06-.94 2.06-2.06.94zm-11 1L8.5 8.5l.94-2.06 2.06-.94-2.06-.94L8.5 2.5l-.94 2.06-2.06.94zm10 10l.94 2.06.94-2.06 2.06-.94-2.06-.94-.94-2.06-.94 2.06-2.06.94z\"/><path d=\"M17.41 7.96l-1.37-1.37c-.4-.4-.92-.59-1.43-.59-.52 0-1.04.2-1.43.59L10.3 9.45l-7.72 7.72c-.78.78-.78 2.05 0 2.83L4 21.41c.39.39.9.59 1.41.59.51 0 1.02-.2 1.41-.59l7.78-7.78 2.81-2.81c.8-.78.8-2.07 0-2.86zM5.41 20L4 18.59l7.72-7.72 1.47 1.35L5.41 20z\"/>\n",
              "  </svg>\n",
              "      </button>\n",
              "      \n",
              "  <style>\n",
              "    .colab-df-container {\n",
              "      display:flex;\n",
              "      flex-wrap:wrap;\n",
              "      gap: 12px;\n",
              "    }\n",
              "\n",
              "    .colab-df-convert {\n",
              "      background-color: #E8F0FE;\n",
              "      border: none;\n",
              "      border-radius: 50%;\n",
              "      cursor: pointer;\n",
              "      display: none;\n",
              "      fill: #1967D2;\n",
              "      height: 32px;\n",
              "      padding: 0 0 0 0;\n",
              "      width: 32px;\n",
              "    }\n",
              "\n",
              "    .colab-df-convert:hover {\n",
              "      background-color: #E2EBFA;\n",
              "      box-shadow: 0px 1px 2px rgba(60, 64, 67, 0.3), 0px 1px 3px 1px rgba(60, 64, 67, 0.15);\n",
              "      fill: #174EA6;\n",
              "    }\n",
              "\n",
              "    [theme=dark] .colab-df-convert {\n",
              "      background-color: #3B4455;\n",
              "      fill: #D2E3FC;\n",
              "    }\n",
              "\n",
              "    [theme=dark] .colab-df-convert:hover {\n",
              "      background-color: #434B5C;\n",
              "      box-shadow: 0px 1px 3px 1px rgba(0, 0, 0, 0.15);\n",
              "      filter: drop-shadow(0px 1px 2px rgba(0, 0, 0, 0.3));\n",
              "      fill: #FFFFFF;\n",
              "    }\n",
              "  </style>\n",
              "\n",
              "      <script>\n",
              "        const buttonEl =\n",
              "          document.querySelector('#df-10fc61da-fad2-4945-b320-8f6b5787379f button.colab-df-convert');\n",
              "        buttonEl.style.display =\n",
              "          google.colab.kernel.accessAllowed ? 'block' : 'none';\n",
              "\n",
              "        async function convertToInteractive(key) {\n",
              "          const element = document.querySelector('#df-10fc61da-fad2-4945-b320-8f6b5787379f');\n",
              "          const dataTable =\n",
              "            await google.colab.kernel.invokeFunction('convertToInteractive',\n",
              "                                                     [key], {});\n",
              "          if (!dataTable) return;\n",
              "\n",
              "          const docLinkHtml = 'Like what you see? Visit the ' +\n",
              "            '<a target=\"_blank\" href=https://colab.research.google.com/notebooks/data_table.ipynb>data table notebook</a>'\n",
              "            + ' to learn more about interactive tables.';\n",
              "          element.innerHTML = '';\n",
              "          dataTable['output_type'] = 'display_data';\n",
              "          await google.colab.output.renderOutput(dataTable, element);\n",
              "          const docLink = document.createElement('div');\n",
              "          docLink.innerHTML = docLinkHtml;\n",
              "          element.appendChild(docLink);\n",
              "        }\n",
              "      </script>\n",
              "    </div>\n",
              "  </div>\n",
              "  "
            ],
            "text/plain": [
              "                        author  ... cluster\n",
              "0  Alantae of Chesterfeild, MI  ...      11\n",
              "1     Vera of Philadelphia, PA  ...       6\n",
              "2  Sarah of Rancho Cordova, CA  ...       3\n",
              "3     Dennis of Manchester, NH  ...      11\n",
              "4         Ryan of Bellevue, WA  ...       7\n",
              "\n",
              "[5 rows x 5 columns]"
            ]
          },
          "metadata": {},
          "execution_count": 35
        }
      ]
    },
    {
      "cell_type": "markdown",
      "source": [
        "# output the result to a text file."
      ],
      "metadata": {
        "id": "_SbV2BmrnXvj"
      }
    },
    {
      "cell_type": "code",
      "source": [
        "clusters = data.groupby('cluster')   "
      ],
      "metadata": {
        "id": "GOxxXZAInS8v"
      },
      "execution_count": 36,
      "outputs": []
    },
    {
      "cell_type": "code",
      "source": [
        "for cluster in clusters.groups:\n",
        "    f = open('cluster'+str(cluster)+ '.csv', 'w') # create csv file\n",
        "    df = clusters.get_group(cluster)[['author','posted_on','rating','text']] # get title and overview columns\n",
        "    f.close()"
      ],
      "metadata": {
        "id": "O1dmvbnfndNO"
      },
      "execution_count": 48,
      "outputs": []
    },
    {
      "cell_type": "code",
      "source": [
        "print(\"Cluster centroids: \\n\")\n",
        "order_centroids = model.cluster_centers_.argsort()[:, ::-1]\n",
        "terms = vectorizer.get_feature_names()\n",
        "\n",
        "for i in range(k):\n",
        "    print(\"Cluster %d:\" % i)\n",
        "    for j in order_centroids[i, :10]: #print out 10 feature terms of each cluster\n",
        "        print (' %s' % terms[j])\n",
        "    print('------------')"
      ],
      "metadata": {
        "colab": {
          "base_uri": "https://localhost:8080/"
        },
        "id": "3KowuEAMnfr2",
        "outputId": "ba4ec314-f6f3-4798-cdee-f240c6c63292"
      },
      "execution_count": 41,
      "outputs": [
        {
          "output_type": "stream",
          "name": "stdout",
          "text": [
            "Cluster centroids: \n",
            "\n",
            "Cluster 0:\n",
            " package\n",
            " comcast\n",
            " month\n",
            " told\n",
            " card\n",
            " 99\n",
            " service\n",
            " called\n",
            " internet\n",
            " promotion\n",
            "------------\n",
            "Cluster 1:\n",
            " said\n",
            " called\n",
            " told\n",
            " service\n",
            " rep\n",
            " asked\n",
            " supervisor\n",
            " comcast\n",
            " account\n",
            " phone\n",
            "------------\n",
            "Cluster 2:\n",
            " nan\n",
            " zoom\n",
            " e8\n",
            " earthlink\n",
            " earth\n",
            " earsi\n",
            " ears\n",
            " earning\n",
            " earned\n",
            " earn\n",
            "------------\n",
            "Cluster 3:\n",
            " service\n",
            " customer\n",
            " company\n",
            " comcast\n",
            " worst\n",
            " time\n",
            " just\n",
            " don\n",
            " horrible\n",
            " phone\n",
            "------------\n",
            "Cluster 4:\n",
            " installation\n",
            " service\n",
            " told\n",
            " fee\n",
            " install\n",
            " comcast\n",
            " called\n",
            " cable\n",
            " order\n",
            " phone\n",
            "------------\n",
            "Cluster 5:\n",
            " 00\n",
            " month\n",
            " comcast\n",
            " service\n",
            " told\n",
            " pay\n",
            " internet\n",
            " charge\n",
            " cable\n",
            " charged\n",
            "------------\n",
            "Cluster 6:\n",
            " service\n",
            " internet\n",
            " phone\n",
            " comcast\n",
            " problem\n",
            " hours\n",
            " home\n",
            " time\n",
            " business\n",
            " times\n",
            "------------\n",
            "Cluster 7:\n",
            " contract\n",
            " year\n",
            " comcast\n",
            " service\n",
            " told\n",
            " termination\n",
            " fee\n",
            " signed\n",
            " month\n",
            " years\n",
            "------------\n",
            "Cluster 8:\n",
            " price\n",
            " month\n",
            " service\n",
            " comcast\n",
            " internet\n",
            " 99\n",
            " customer\n",
            " told\n",
            " year\n",
            " package\n",
            "------------\n",
            "Cluster 9:\n",
            " modem\n",
            " comcast\n",
            " service\n",
            " internet\n",
            " told\n",
            " new\n",
            " called\n",
            " said\n",
            " router\n",
            " phone\n",
            "------------\n",
            "Cluster 10:\n",
            " technician\n",
            " comcast\n",
            " called\n",
            " number\n",
            " service\n",
            " phone\n",
            " told\n",
            " said\n",
            " come\n",
            " house\n",
            "------------\n",
            "Cluster 11:\n",
            " comcast\n",
            " service\n",
            " internet\n",
            " time\n",
            " services\n",
            " month\n",
            " pay\n",
            " just\n",
            " company\n",
            " cable\n",
            "------------\n",
            "Cluster 12:\n",
            " tech\n",
            " service\n",
            " comcast\n",
            " called\n",
            " said\n",
            " told\n",
            " come\n",
            " internet\n",
            " phone\n",
            " problem\n",
            "------------\n",
            "Cluster 13:\n",
            " payment\n",
            " account\n",
            " bank\n",
            " comcast\n",
            " service\n",
            " money\n",
            " paid\n",
            " pay\n",
            " payments\n",
            " balance\n",
            "------------\n",
            "Cluster 14:\n",
            " box\n",
            " cable\n",
            " comcast\n",
            " dvr\n",
            " service\n",
            " hd\n",
            " new\n",
            " told\n",
            " tv\n",
            " called\n",
            "------------\n",
            "Cluster 15:\n",
            " equipment\n",
            " comcast\n",
            " collection\n",
            " service\n",
            " credit\n",
            " account\n",
            " returned\n",
            " agency\n",
            " told\n",
            " received\n",
            "------------\n",
            "Cluster 16:\n",
            " email\n",
            " account\n",
            " address\n",
            " comcast\n",
            " service\n",
            " new\n",
            " number\n",
            " customer\n",
            " told\n",
            " phone\n",
            "------------\n",
            "Cluster 17:\n",
            " appointment\n",
            " called\n",
            " service\n",
            " technician\n",
            " comcast\n",
            " told\n",
            " pm\n",
            " day\n",
            " scheduled\n",
            " said\n",
            "------------\n",
            "Cluster 18:\n",
            " cable\n",
            " tv\n",
            " comcast\n",
            " service\n",
            " channels\n",
            " internet\n",
            " box\n",
            " pay\n",
            " digital\n",
            " problem\n",
            "------------\n",
            "Cluster 19:\n",
            " speed\n",
            " mbps\n",
            " internet\n",
            " comcast\n",
            " high\n",
            " service\n",
            " speeds\n",
            " download\n",
            " connection\n",
            " slow\n",
            "------------\n"
          ]
        },
        {
          "output_type": "stream",
          "name": "stderr",
          "text": [
            "/usr/local/lib/python3.7/dist-packages/sklearn/utils/deprecation.py:87: FutureWarning: Function get_feature_names is deprecated; get_feature_names is deprecated in 1.0 and will be removed in 1.2. Please use get_feature_names_out instead.\n",
            "  warnings.warn(msg, category=FutureWarning)\n"
          ]
        }
      ]
    },
    {
      "cell_type": "code",
      "source": [
        "import matplotlib.pyplot as plt\n",
        "import seaborn as sns\n",
        "%matplotlib inline"
      ],
      "metadata": {
        "id": "dgOKaHyeqpzO"
      },
      "execution_count": 44,
      "outputs": []
    },
    {
      "cell_type": "code",
      "source": [
        "# Evaluation\n",
        "# Run the Kmeans algorithm and get the index of data points clusters\n",
        "sse = []\n",
        "list_k = list(range(1, 40))\n",
        "\n",
        "for k in list_k:\n",
        "    km = KMeans(n_clusters=k)\n",
        "    km.fit(features)\n",
        "    sse.append(km.inertia_)\n",
        "\n",
        "# Plot sse against k\n",
        "plt.figure(figsize=(6, 6))\n",
        "plt.plot(list_k, sse, '-o')\n",
        "plt.xlabel(r'Number of clusters *k*')\n",
        "plt.ylabel('Sum of squared distance');"
      ],
      "metadata": {
        "colab": {
          "base_uri": "https://localhost:8080/",
          "height": 387
        },
        "id": "45dA3UN0pGXi",
        "outputId": "875cc8e4-5ff6-44af-a2c6-a77c69f4eeb4"
      },
      "execution_count": 47,
      "outputs": [
        {
          "output_type": "display_data",
          "data": {
            "image/png": "[encoded data removed]",
            "text/plain": [
              "<Figure size 432x432 with 1 Axes>"
            ]
          },
          "metadata": {
            "needs_background": "light"
          }
        }
      ]
    },
    {
      "cell_type": "code",
      "source": [
        "for i, k in enumerate([10,15,20,25,30,35,40]):\n",
        "    fig, (ax1, ax2) = plt.subplots(1, 2)\n",
        "    fig.set_size_inches(18, 7)\n",
        "    \n",
        "    # Run the Kmeans algorithm\n",
        "    km = KMeans(n_clusters=k)\n",
        "    labels = km.fit_predict(features)\n",
        "    centroids = km.cluster_centers_\n",
        "\n",
        "    # Get silhouette samples\n",
        "    silhouette_vals = silhouette_samples(features, labels)\n",
        "\n",
        "    # Silhouette plot\n",
        "    y_ticks = []\n",
        "    y_lower, y_upper = 0, 0\n",
        "    for i, cluster in enumerate(np.unique(labels)):\n",
        "        cluster_silhouette_vals = silhouette_vals[labels == cluster]\n",
        "        cluster_silhouette_vals.sort()\n",
        "        y_upper += len(cluster_silhouette_vals)\n",
        "        ax1.barh(range(y_lower, y_upper), cluster_silhouette_vals, edgecolor='none', height=1)\n",
        "        ax1.text(-0.03, (y_lower + y_upper) / 2, str(i + 1))\n",
        "        y_lower += len(cluster_silhouette_vals)\n",
        "\n",
        "    # Get the average silhouette score and plot it\n",
        "    avg_score = np.mean(silhouette_vals)\n",
        "    ax1.axvline(avg_score, linestyle='--', linewidth=2, color='green')\n",
        "    ax1.set_yticks([])\n",
        "    ax1.set_xlim([-0.1, 1])\n",
        "    ax1.set_xlabel('Silhouette coefficient values')\n",
        "    ax1.set_ylabel('Cluster labels')\n",
        "    ax1.set_title('Silhouette plot for the various clusters', y=1.02);\n",
        "    \n",
        "    # Scatter plot of data colored with labels\n",
        "    ax2.scatter(X_std[:, 0], X_std[:, 1], c=labels)\n",
        "    ax2.scatter(centroids[:, 0], centroids[:, 1], marker='*', c='r', s=250)\n",
        "    ax2.set_xlim([-2, 2])\n",
        "    ax2.set_xlim([-2, 2])\n",
        "    ax2.set_xlabel('Eruption time in mins')\n",
        "    ax2.set_ylabel('Waiting time to next eruption')\n",
        "    ax2.set_title('Visualization of clustered data', y=1.02)\n",
        "    ax2.set_aspect('equal')\n",
        "    plt.tight_layout()\n",
        "    plt.suptitle(f'Silhouette analysis using k = {k}',\n",
        "                 fontsize=16, fontweight='semibold', y=1.05);"
      ],
      "metadata": {
        "colab": {
          "base_uri": "https://localhost:8080/",
          "height": 661
        },
        "id": "0cOJ1tH4pes4",
        "outputId": "b62aa6a3-1db4-4e82-ddf9-862721ab218f"
      },
      "execution_count": 50,
      "outputs": [
        {
          "output_type": "error",
          "ename": "NameError",
          "evalue": "ignored",
          "traceback": [
            "\u001b[0;31m---------------------------------------------------------------------------\u001b[0m",
            "\u001b[0;31mNameError\u001b[0m                                 Traceback (most recent call last)",
            "\u001b[0;32m<ipython-input-50-a5cadbf1c2f7>\u001b[0m in \u001b[0;36m<module>\u001b[0;34m()\u001b[0m\n\u001b[1;32m      9\u001b[0m \u001b[0;34m\u001b[0m\u001b[0m\n\u001b[1;32m     10\u001b[0m     \u001b[0;31m# Get silhouette samples\u001b[0m\u001b[0;34m\u001b[0m\u001b[0;34m\u001b[0m\u001b[0;34m\u001b[0m\u001b[0m\n\u001b[0;32m---> 11\u001b[0;31m     \u001b[0msilhouette_vals\u001b[0m \u001b[0;34m=\u001b[0m \u001b[0msilhouette_samples\u001b[0m\u001b[0;34m(\u001b[0m\u001b[0mfeatures\u001b[0m\u001b[0;34m,\u001b[0m \u001b[0mlabels\u001b[0m\u001b[0;34m)\u001b[0m\u001b[0;34m\u001b[0m\u001b[0;34m\u001b[0m\u001b[0m\n\u001b[0m\u001b[1;32m     12\u001b[0m \u001b[0;34m\u001b[0m\u001b[0m\n\u001b[1;32m     13\u001b[0m     \u001b[0;31m# Silhouette plot\u001b[0m\u001b[0;34m\u001b[0m\u001b[0;34m\u001b[0m\u001b[0;34m\u001b[0m\u001b[0m\n",
            "\u001b[0;31mNameError\u001b[0m: name 'silhouette_samples' is not defined"
          ]
        },
        {
          "output_type": "display_data",
          "data": {
            "image/png": "[encoded data removed]",
            "text/plain": [
              "<Figure size 1296x504 with 2 Axes>"
            ]
          },
          "metadata": {
            "needs_background": "light"
          }
        }
      ]
    },
    {
      "cell_type": "code",
      "source": [
        ""
      ],
      "metadata": {
        "id": "COmujYvXvWTz"
      },
      "execution_count": null,
      "outputs": []
    }
  ]
}